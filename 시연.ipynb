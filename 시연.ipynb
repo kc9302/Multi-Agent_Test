{
 "cells": [
  {
   "cell_type": "code",
   "execution_count": 1,
   "id": "f7b05c77-f1ef-455a-8f18-5580933b21d9",
   "metadata": {},
   "outputs": [
    {
     "name": "stderr",
     "output_type": "stream",
     "text": [
      "/home/kc9302/AI_Agent/시연/multi_agent.py:15: UserWarning: WARNING: Unsloth should be imported before transformers to ensure all optimizations are applied. Your code may run slower or encounter memory issues without these optimizations.\n",
      "\n",
      "Please restructure your imports with 'import unsloth' at the top of your file.\n",
      "  from unsloth import FastLanguageModel\n"
     ]
    },
    {
     "name": "stdout",
     "output_type": "stream",
     "text": [
      "🦥 Unsloth: Will patch your computer to enable 2x faster free finetuning.\n",
      "Unsloth: Failed to patch Gemma3ForConditionalGeneration.\n",
      "🦥 Unsloth Zoo will now patch everything to make training faster!\n",
      "INFO 04-10 04:37:40 [__init__.py:239] Automatically detected platform cuda.\n"
     ]
    }
   ],
   "source": [
    "from make_langgraph import activate_agent\n",
    "import time\n",
    "\n",
    "# 질의 변수 생성\n",
    "korea_history = \"이순신 장군의 절친은?\"\n",
    "english = \"영어로 코끼리는 뭐라고해요?\"\n",
    "math = \"\"\"\"위키쌤 이 문제를 초등학생 수학 계통도 안에서 설명해주세요.\n",
    "가로의 길이가 세로의 길이보다 9 cm만큼 더 긴 직사각형의둘레의 길이가 50 cm일 때, 직사각형의 넓이를 구하시오.\n",
    "x 표현은 사용하지 마세요.\n",
    "되도록 미지수는 □, △로 말해주세요.\"\"\""
   ]
  },
  {
   "cell_type": "code",
   "execution_count": 2,
   "id": "a06a0e8f-972b-41be-aa26-0931a8c92932",
   "metadata": {},
   "outputs": [
    {
     "name": "stdout",
     "output_type": "stream",
     "text": [
      "------------ 질의를 분석합니다. ------------\n"
     ]
    },
    {
     "name": "stderr",
     "output_type": "stream",
     "text": [
      "Sliding Window Attention is enabled but not implemented for `sdpa`; unexpected results may be encountered.\n"
     ]
    },
    {
     "data": {
      "application/vnd.jupyter.widget-view+json": {
       "model_id": "0908766f0e61446ab6cd151d96e83d4a",
       "version_major": 2,
       "version_minor": 0
      },
      "text/plain": [
       "Loading checkpoint shards:   0%|          | 0/4 [00:00<?, ?it/s]"
      ]
     },
     "metadata": {},
     "output_type": "display_data"
    },
    {
     "name": "stderr",
     "output_type": "stream",
     "text": [
      "Device set to use cuda:0\n"
     ]
    },
    {
     "name": "stdout",
     "output_type": "stream",
     "text": [
      "------------ 한국사 답변으로 이동합니다. ------------\n",
      "\n",
      "------------ RAG을 구성합니다. ------------\n",
      "------------ RAG에서 데이터를 가져옵니다. ------------\n",
      "------------ 가져온 데이터 ------------\n",
      "page_content='한국사 신석기 시대 완벽 정리\n",
      "한국사 신석기 시대는 기원전 8000년경부터 시작되어 기원전 1500년경까지 이어진 시기입니다. 이 시기는 인류가 간석기를 사용하고 농경과 목축을 시작하며 정착 생활을 하게 된 시기로, 다음과 같이 정리할 수 있습니다.' metadata={'source': 'rag_file.txt'}\n",
      "page_content='4. 구석기 시대의 의의\n",
      "한반도 인류 역사의 시작: 구석기 시대는 한반도에서 인류가 처음으로 살기 시작한 시기로, 한국 역사의 시작을 알리는 중요한 시기입니다.\n",
      "인류 진화 과정 연구의 중요한 자료: 구석기 시대 유적과 유물은 인류의 진화 과정과 당시 생활 모습을 연구하는 데 중요한 자료를 제공합니다.' metadata={'source': 'rag_file.txt'}\n",
      "\n",
      "------------ 한국사 에이전트 실행 ------------\n",
      "\n"
     ]
    },
    {
     "data": {
      "application/vnd.jupyter.widget-view+json": {
       "model_id": "ae8e4904375f429f9d14fd044acdee3a",
       "version_major": 2,
       "version_minor": 0
      },
      "text/plain": [
       "Loading checkpoint shards:   0%|          | 0/4 [00:00<?, ?it/s]"
      ]
     },
     "metadata": {},
     "output_type": "display_data"
    },
    {
     "name": "stderr",
     "output_type": "stream",
     "text": [
      "Device set to use cuda:0\n"
     ]
    },
    {
     "name": "stdout",
     "output_type": "stream",
     "text": [
      "\n",
      "------------ Answer ------------\n",
      "신석기 시대의 특징은 다음과 같습니다:1\n",
      " **인류가 정착 생활을 시작함**: 신석기 시대에는 인류가 간석기를 사용하고 농경과 목축을 시작하면서 정착 생활을 시작하였습니다\n",
      "2\n",
      " **인류 역사의 중요한 시작**: 신석기 시대는 한반도에서 인류가 처음으로 살기 시작한 시기이므로 한국 역사의 시작을 알리는 중요한 시기입니다\n",
      "3\n",
      " **인류 진화 과정 연구의 자료**: 신석기 시대의 유적과 유물은 인류의 진화 과정과 당시 생활상을 연구하는데 중요한 자료를 제공합니다\n",
      "따라서, 신석기 시대는 인류의 문명 발달에 중요한 역할을 하였고, 이 시대의 연구는 인간의 역사와 문명에 대한 이해를 돕는 데 매우 중요하다는 것을 알 수 있습니다\n",
      "\n",
      "------------ 응답시간 : 23.99320 sec ------------\n"
     ]
    }
   ],
   "source": [
    "start = time.time()\n",
    "text = activate_agent(question=\"신석기 시대의 특징을 알려줘\")[\"answer\"]\n",
    "end = time.time()\n",
    "\n",
    "lines = text.split(\".\")\n",
    "print()\n",
    "print(\"------------ Answer ------------\")\n",
    "for line in lines:\n",
    "    print(line)\n",
    "    \n",
    "print(f\"------------ 응답시간 : {end - start:.5f} sec ------------\")"
   ]
  },
  {
   "cell_type": "code",
   "execution_count": 3,
   "id": "ed3406cf-b9b0-4778-b863-42fbb01a2398",
   "metadata": {},
   "outputs": [
    {
     "name": "stdout",
     "output_type": "stream",
     "text": [
      "------------ 질의를 분석합니다. ------------\n"
     ]
    },
    {
     "data": {
      "application/vnd.jupyter.widget-view+json": {
       "model_id": "491fb9588342439dbddaef0794d40be1",
       "version_major": 2,
       "version_minor": 0
      },
      "text/plain": [
       "Loading checkpoint shards:   0%|          | 0/4 [00:00<?, ?it/s]"
      ]
     },
     "metadata": {},
     "output_type": "display_data"
    },
    {
     "name": "stderr",
     "output_type": "stream",
     "text": [
      "Device set to use cuda:0\n"
     ]
    },
    {
     "name": "stdout",
     "output_type": "stream",
     "text": [
      "------------ 영어 답변으로 이동합니다. ------------\n",
      "\n",
      "------------ 영어 에이전트 실행 ------------\n",
      "\n"
     ]
    },
    {
     "data": {
      "application/vnd.jupyter.widget-view+json": {
       "model_id": "14a49ef965934721b569cf959a08dd56",
       "version_major": 2,
       "version_minor": 0
      },
      "text/plain": [
       "Loading checkpoint shards:   0%|          | 0/4 [00:00<?, ?it/s]"
      ]
     },
     "metadata": {},
     "output_type": "display_data"
    },
    {
     "name": "stderr",
     "output_type": "stream",
     "text": [
      "Device set to use cuda:0\n"
     ]
    },
    {
     "name": "stdout",
     "output_type": "stream",
     "text": [
      "------------ Answer ------------\n",
      "코끼리는 \"Elephant\"이라고 합니다.\n",
      "\n",
      "----------- 응답시간 : 7.43131 sec ------------\n"
     ]
    }
   ],
   "source": [
    "start = time.time()\n",
    "result = activate_agent(question=english)[\"answer\"]\n",
    "end = time.time()\n",
    "print(\"------------ Answer ------------\")\n",
    "print(result)\n",
    "print()\n",
    "print(f\"----------- 응답시간 : {end - start:.5f} sec ------------\")"
   ]
  },
  {
   "cell_type": "code",
   "execution_count": 4,
   "id": "b22d2a23-f5f3-47a6-9fc0-54d19c1a7a2e",
   "metadata": {},
   "outputs": [
    {
     "name": "stdout",
     "output_type": "stream",
     "text": [
      "------------ 질의를 분석합니다. ------------\n"
     ]
    },
    {
     "data": {
      "application/vnd.jupyter.widget-view+json": {
       "model_id": "dc958543da0247358eb3878bcfe9092c",
       "version_major": 2,
       "version_minor": 0
      },
      "text/plain": [
       "Loading checkpoint shards:   0%|          | 0/4 [00:00<?, ?it/s]"
      ]
     },
     "metadata": {},
     "output_type": "display_data"
    },
    {
     "name": "stderr",
     "output_type": "stream",
     "text": [
      "Device set to use cuda:0\n"
     ]
    },
    {
     "name": "stdout",
     "output_type": "stream",
     "text": [
      "------------ 수학 답변으로 이동합니다. ------------\n",
      "\n",
      "------------ 수학 에이전트 실행 ------------\n",
      "\n",
      "==((====))==  Unsloth 2025.3.19: Fast Llama patching. Transformers: 4.51.1. vLLM: 0.8.3.\n",
      "   \\\\   /|    NVIDIA GeForce RTX 4070 Ti SUPER. Num GPUs = 2. Max memory: 15.688 GB. Platform: Linux.\n",
      "O^O/ \\_/ \\    Torch: 2.6.0+cu124. CUDA: 8.9. CUDA Toolkit: 12.4. Triton: 3.2.0\n",
      "\\        /    Bfloat16 = TRUE. FA [Xformers = 0.0.29.post2. FA2 = False]\n",
      " \"-____-\"     Free license: http://github.com/unslothai/unsloth\n",
      "Unsloth: Fast downloading is enabled - ignore downloading bars which are red colored!\n"
     ]
    },
    {
     "data": {
      "application/vnd.jupyter.widget-view+json": {
       "model_id": "10528e6651084d88b962d69a2ad519dd",
       "version_major": 2,
       "version_minor": 0
      },
      "text/plain": [
       "Loading checkpoint shards:   0%|          | 0/2 [00:00<?, ?it/s]"
      ]
     },
     "metadata": {},
     "output_type": "display_data"
    },
    {
     "name": "stderr",
     "output_type": "stream",
     "text": [
      "Unsloth: Will load ./math_assistant as a legacy tokenizer.\n",
      "Not an error, but Unsloth cannot patch Attention layers with our manual autograd engine since either LoRA adapters\n",
      "are not enabled or a bias term (like in Qwen) is used.\n",
      "Not an error, but Unsloth cannot patch O projection layer with our manual autograd engine since either LoRA adapters\n",
      "are not enabled or a bias term (like in Qwen) is used.\n",
      "Unsloth 2025.3.19 patched 40 layers with 0 QKV layers, 0 O layers and 40 MLP layers.\n",
      "The attention mask is not set and cannot be inferred from input because pad token is same as eos token. As a consequence, you may observe unexpected behavior. Please pass your input's `attention_mask` to obtain reliable results.\n"
     ]
    },
    {
     "name": "stdout",
     "output_type": "stream",
     "text": [
      "\n",
      "------------ Answer ------------\n",
      " 좋아요! 이 문제를 한 단계씩 풀어보겠습니다\n",
      "1\n",
      " **직사각형의 둘레 공식**:     직사각형의 둘레는 다음과 같이 계산할 수 있어요\n",
      "     둘레 = 2 × (가로 + 세로)2\n",
      " **문제 조건에 맞춰서 식을 만들어보기**:     문제에서 가로의 길이가 세로의 길이보다 9 cm 더 길다고 해요\n",
      "     그래서 가로를 □라고 하면, 세로는 □ - 9 cm가 됩니다\n",
      "3\n",
      " **둘레를 이용한 식 만들기**:     둘레가 50 cm라고 주어졌어요\n",
      "     그래서,     2 × (가로 + 세로) = 50     2 × (□ + (□ - 9)) = 504\n",
      " **식을 단순화하기**:     2 × (□ + □ - 9) = 50     2 × (2□ - 9) = 50     4□ - 18 = 505\n",
      " **□를 구하기**:     4□ - 18 = 50     4□ = 50 + 18     4□ = 68     □ = 68 ÷ 4     □ = 176\n",
      " **세로 길이 구하기**:     세로는 □ - 9이니까,     세로 = 17 - 9     세로 = 87\n",
      " **넓이 구하기**:     넓이는 가로 × 세로로 구할 수 있어요\n",
      "     넓이 = □ × (□ - 9)     넓이 = 17 × 8     넓이 = 136 cm²그래서, 직사각형의 넓이는 136 cm²가 되겠네요!**유사한 문제로 연습해보기**:  가로의 길이가 세로의 길이보다 5 cm 더 긴 직사각형의 둘레가 60 cm일 때, 직사각형의 넓이를 구해보세요\n",
      "  가로를 □, 세로를 △라고 하면, 가로는 △ + 5가 됩니다\n",
      "  둘레는 2 × (가로 + 세로) = 60이니까,  2 × (△ + 5 + △) = 60  2 × (2△ + 5) = 60  4△ + 10 = 60  4△ = 50  △ = 12\n",
      "5  가로 = △ + 5 = 17\n",
      "5  넓이 = 가로 × 세로 = 17\n",
      "5 × 12\n",
      "5 = 218\n",
      "75 cm²이렇게 문제를 풀어보면서 연습해보세요!\n",
      "----------- 응답시간 : 39.25943 sec ------------\n"
     ]
    }
   ],
   "source": [
    "start = time.time()\n",
    "text = activate_agent(question=math)[\"answer\"]\n",
    "end = time.time()\n",
    "lines = text.split(\".\")\n",
    "print()\n",
    "print(\"------------ Answer ------------\")\n",
    "for line in lines:\n",
    "    print(line)\n",
    "\n",
    "print(f\"----------- 응답시간 : {end - start:.5f} sec ------------\")"
   ]
  }
 ],
 "metadata": {
  "kernelspec": {
   "display_name": "Python [conda env:langgraph]",
   "language": "python",
   "name": "conda-env-langgraph-py"
  },
  "language_info": {
   "codemirror_mode": {
    "name": "ipython",
    "version": 3
   },
   "file_extension": ".py",
   "mimetype": "text/x-python",
   "name": "python",
   "nbconvert_exporter": "python",
   "pygments_lexer": "ipython3",
   "version": "3.11.11"
  }
 },
 "nbformat": 4,
 "nbformat_minor": 5
}
